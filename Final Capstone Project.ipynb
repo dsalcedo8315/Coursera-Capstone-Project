{
    "nbformat_minor": 1, 
    "cells": [
        {
            "source": "# Coffee Shop", 
            "cell_type": "markdown", 
            "metadata": {
                "collapsed": true
            }
        }, 
        {
            "source": "## Town Selection", 
            "cell_type": "markdown", 
            "metadata": {}
        }, 
        {
            "source": "Coffee keeps the world running especially early in the morning. Living in New Jersey often means early mornings with long commutes.  We're aiming to provide commuters with easy access to early morning caffeine.", 
            "cell_type": "markdown", 
            "metadata": {}
        }, 
        {
            "source": "### Data", 
            "cell_type": "markdown", 
            "metadata": {}
        }, 
        {
            "source": "We'll use two data sources to assess the viability of the business and to select the town to open our flagship location.  First we'll use NJ Transit Schedule data to identify the station on the Main, Bergen, and Pascack Valley Lines (outside of Seacaucus) with the greatest number of trains per day.  Once identified, we'll use Foursquare data to evaluate the competition near each of these stations. We'll look at the number of competitors within 5 miles of the station.  We'll compare their hours to the train times. We'll look at the reviews of the competitors, both the average rating, but also the qualitative feedback. To help inform our business investment, we'll also look at surrounding businesses and their average price point and rating. ", 
            "cell_type": "markdown", 
            "metadata": {}
        }, 
        {
            "execution_count": null, 
            "cell_type": "code", 
            "metadata": {}, 
            "outputs": [], 
            "source": ""
        }
    ], 
    "metadata": {
        "kernelspec": {
            "display_name": "Python 3.5 with Spark", 
            "name": "python3", 
            "language": "python3"
        }, 
        "language_info": {
            "mimetype": "text/x-python", 
            "nbconvert_exporter": "python", 
            "version": "3.5.4", 
            "name": "python", 
            "file_extension": ".py", 
            "pygments_lexer": "ipython3", 
            "codemirror_mode": {
                "version": 3, 
                "name": "ipython"
            }
        }
    }, 
    "nbformat": 4
}